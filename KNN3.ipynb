{
 "cells": [
  {
   "cell_type": "markdown",
   "id": "59a28a02-855a-4e2a-9f94-9163a1e77567",
   "metadata": {},
   "source": [
    "## 1"
   ]
  },
  {
   "cell_type": "code",
   "execution_count": 1,
   "id": "da189703-b905-4d83-bd86-10512f6a5326",
   "metadata": {},
   "outputs": [
    {
     "name": "stdout",
     "output_type": "stream",
     "text": [
      "Accuracy: 100.00%\n"
     ]
    }
   ],
   "source": [
    "# Import necessary libraries\n",
    "from sklearn.datasets import load_iris\n",
    "from sklearn.model_selection import train_test_split\n",
    "from sklearn.neighbors import KNeighborsClassifier\n",
    "from sklearn.metrics import accuracy_score\n",
    "\n",
    "# Load the Iris dataset\n",
    "iris = load_iris()\n",
    "X = iris.data\n",
    "y = iris.target\n",
    "\n",
    "# Split the dataset into training and testing sets\n",
    "X_train, X_test, y_train, y_test = train_test_split(X, y, test_size=0.2, random_state=42)\n",
    "\n",
    "# Create a KNN classifier with k=3\n",
    "knn_classifier = KNeighborsClassifier(n_neighbors=3)\n",
    "\n",
    "# Fit the classifier on the training data\n",
    "knn_classifier.fit(X_train, y_train)\n",
    "\n",
    "# Make predictions on the test set\n",
    "y_pred = knn_classifier.predict(X_test)\n",
    "\n",
    "# Calculate accuracy\n",
    "accuracy = accuracy_score(y_test, y_pred)\n",
    "print(f'Accuracy: {accuracy * 100:.2f}%')\n"
   ]
  },
  {
   "cell_type": "markdown",
   "id": "7401b5dc-eade-44c8-b4a2-0a9d77ea0148",
   "metadata": {},
   "source": [
    "## 2"
   ]
  },
  {
   "cell_type": "code",
   "execution_count": null,
   "id": "f1c88787-8b0b-4dcc-b55b-c2bfbdbca48e",
   "metadata": {},
   "outputs": [],
   "source": [
    "# Import necessary libraries\n",
    "from sklearn.datasets import load_boston\n",
    "from sklearn.model_selection import train_test_split\n",
    "from sklearn.neighbors import KNeighborsRegressor\n",
    "from sklearn.metrics import mean_squared_error\n",
    "\n",
    "# Load the Boston dataset\n",
    "boston = load_boston()\n",
    "X = boston.data\n",
    "y = boston.target\n",
    "\n",
    "# Split the dataset into training and testing sets\n",
    "X_train, X_test, y_train, y_test = train_test_split(X, y, test_size=0.2, random_state=42)\n",
    "\n",
    "# Create a KNN regressor with k=3\n",
    "knn_regressor = KNeighborsRegressor(n_neighbors=3)\n",
    "\n",
    "# Fit the regressor on the training data\n",
    "knn_regressor.fit(X_train, y_train)\n",
    "\n",
    "# Make predictions on the test set\n",
    "y_pred = knn_regressor.predict(X_test)\n",
    "\n",
    "# Calculate Mean Squared Error (MSE)\n",
    "mse = mean_squared_error(y_test, y_pred)\n",
    "print(f'Mean Squared Error: {mse:.2f}')\n"
   ]
  },
  {
   "cell_type": "markdown",
   "id": "6318ccb8-9a96-4e76-af03-5a0c4d7b9aa6",
   "metadata": {},
   "source": [
    "## 3"
   ]
  },
  {
   "cell_type": "code",
   "execution_count": 4,
   "id": "2fe893a2-ed67-4c5c-b7bf-23396ef55688",
   "metadata": {},
   "outputs": [
    {
     "name": "stdout",
     "output_type": "stream",
     "text": [
      "Optimal K value: 3\n",
      "Mean cross-validated score: 0.96\n"
     ]
    }
   ],
   "source": [
    "# Import necessary libraries\n",
    "from sklearn.datasets import load_iris\n",
    "from sklearn.model_selection import train_test_split, GridSearchCV\n",
    "from sklearn.neighbors import KNeighborsClassifier\n",
    "\n",
    "# Load the Iris dataset\n",
    "iris = load_iris()\n",
    "X = iris.data\n",
    "y = iris.target\n",
    "\n",
    "# Split the dataset into training and testing sets\n",
    "X_train, X_test, y_train, y_test = train_test_split(X, y, test_size=0.2, random_state=42)\n",
    "\n",
    "# Create a KNN classifier\n",
    "knn_classifier = KNeighborsClassifier()\n",
    "\n",
    "# Define a range of values for K\n",
    "k_values = list(range(1, 21))\n",
    "\n",
    "# Create a parameter grid for GridSearchCV\n",
    "param_grid = {'n_neighbors': k_values}\n",
    "\n",
    "# Create GridSearchCV object with 5-fold cross-validation\n",
    "grid_search = GridSearchCV(knn_classifier, param_grid, cv=5, scoring='accuracy')\n",
    "\n",
    "# Fit the GridSearchCV object on the training data\n",
    "grid_search.fit(X_train, y_train)\n",
    "\n",
    "# Get the best K value from the grid search\n",
    "best_k = grid_search.best_params_['n_neighbors']\n",
    "\n",
    "# Print the optimal K value\n",
    "print(f'Optimal K value: {best_k}')\n",
    "\n",
    "# Optionally, you can also print other information such as the mean cross-validated score\n",
    "print(f'Mean cross-validated score: {grid_search.best_score_:.2f}')\n"
   ]
  },
  {
   "cell_type": "markdown",
   "id": "555373a8-3a1b-4ba8-8c89-a7735c8e8946",
   "metadata": {},
   "source": [
    "## 4"
   ]
  },
  {
   "cell_type": "code",
   "execution_count": null,
   "id": "82a588a9-0085-49f8-918b-04b89884d853",
   "metadata": {},
   "outputs": [],
   "source": [
    "# Import necessary libraries\n",
    "from sklearn.datasets import load_boston\n",
    "from sklearn.model_selection import train_test_split\n",
    "from sklearn.neighbors import KNeighborsRegressor\n",
    "from sklearn.preprocessing import StandardScaler\n",
    "from sklearn.metrics import mean_squared_error\n",
    "\n",
    "# Load the Boston dataset\n",
    "boston = load_boston()\n",
    "X = boston.data\n",
    "y = boston.target\n",
    "\n",
    "# Split the dataset into training and testing sets\n",
    "X_train, X_test, y_train, y_test = train_test_split(X, y, test_size=0.2, random_state=42)\n",
    "\n",
    "# Standardize the features using StandardScaler\n",
    "scaler = StandardScaler()\n",
    "X_train_scaled = scaler.fit_transform(X_train)\n",
    "X_test_scaled = scaler.transform(X_test)\n",
    "\n",
    "# Create a KNN regressor with k=3\n",
    "knn_regressor = KNeighborsRegressor(n_neighbors=3)\n",
    "\n",
    "# Fit the regressor on the scaled training data\n",
    "knn_regressor.fit(X_train_scaled, y_train)\n",
    "\n",
    "# Make predictions on the scaled test set\n",
    "y_pred_scaled = knn_regressor.predict(X_test_scaled)\n",
    "\n",
    "# Calculate Mean Squared Error (MSE)\n",
    "mse_scaled = mean_squared_error(y_test, y_pred_scaled)\n",
    "print(f'Mean Squared Error with feature scaling: {mse_scaled:.2f}')\n"
   ]
  },
  {
   "cell_type": "markdown",
   "id": "5b0c3aa5-e2cc-469e-b57a-b9f09892ba7f",
   "metadata": {},
   "source": [
    "## 5"
   ]
  },
  {
   "cell_type": "code",
   "execution_count": 7,
   "id": "cb3ee5ab-3563-4847-9500-4f1cbae17577",
   "metadata": {},
   "outputs": [
    {
     "name": "stdout",
     "output_type": "stream",
     "text": [
      "Accuracy: 100.00%\n"
     ]
    }
   ],
   "source": [
    "# Import necessary libraries\n",
    "from sklearn.datasets import load_iris\n",
    "from sklearn.model_selection import train_test_split\n",
    "from sklearn.neighbors import KNeighborsClassifier\n",
    "from sklearn.metrics import accuracy_score\n",
    "\n",
    "# Load the Iris dataset\n",
    "iris = load_iris()\n",
    "X = iris.data\n",
    "y = iris.target\n",
    "\n",
    "# Split the dataset into training and testing sets\n",
    "X_train, X_test, y_train, y_test = train_test_split(X, y, test_size=0.2, random_state=42)\n",
    "\n",
    "# Create a KNN classifier with weighted voting (distance-based)\n",
    "knn_classifier = KNeighborsClassifier(n_neighbors=3, weights='distance')\n",
    "\n",
    "# Fit the classifier on the training data\n",
    "knn_classifier.fit(X_train, y_train)\n",
    "\n",
    "# Make predictions on the test set\n",
    "y_pred = knn_classifier.predict(X_test)\n",
    "\n",
    "# Calculate accuracy\n",
    "accuracy = accuracy_score(y_test, y_pred)\n",
    "print(f'Accuracy: {accuracy * 100:.2f}%')\n"
   ]
  },
  {
   "cell_type": "markdown",
   "id": "244d1d10-4507-486b-851f-20146a387a54",
   "metadata": {},
   "source": [
    "## 6"
   ]
  },
  {
   "cell_type": "code",
   "execution_count": 8,
   "id": "4b852810-724d-490f-bbcd-40a158de5113",
   "metadata": {},
   "outputs": [
    {
     "name": "stdout",
     "output_type": "stream",
     "text": [
      "Accuracy with standardized features: 100.00%\n"
     ]
    }
   ],
   "source": [
    "from sklearn.preprocessing import StandardScaler\n",
    "from sklearn.neighbors import KNeighborsClassifier\n",
    "from sklearn.model_selection import train_test_split\n",
    "from sklearn.metrics import accuracy_score\n",
    "\n",
    "def knn_classifier_with_standardization(X, y, n_neighbors=3, test_size=0.2, random_state=42):\n",
    "    \"\"\"\n",
    "    Standardize features and apply KNN classifier.\n",
    "\n",
    "    Parameters:\n",
    "    - X: Feature matrix\n",
    "    - y: Target labels\n",
    "    - n_neighbors: Number of neighbors for KNN classifier (default: 3)\n",
    "    - test_size: Fraction of the dataset to be used as a test set (default: 0.2)\n",
    "    - random_state: Seed for random number generator (default: 42)\n",
    "\n",
    "    Returns:\n",
    "    - Accuracy of the KNN classifier on the test set\n",
    "    \"\"\"\n",
    "\n",
    "    # Split the dataset into training and testing sets\n",
    "    X_train, X_test, y_train, y_test = train_test_split(X, y, test_size=test_size, random_state=random_state)\n",
    "\n",
    "    # Standardize the features using StandardScaler\n",
    "    scaler = StandardScaler()\n",
    "    X_train_std = scaler.fit_transform(X_train)\n",
    "    X_test_std = scaler.transform(X_test)\n",
    "\n",
    "    # Create a KNN classifier with specified neighbors\n",
    "    knn_classifier = KNeighborsClassifier(n_neighbors=n_neighbors)\n",
    "\n",
    "    # Fit the classifier on the standardized training data\n",
    "    knn_classifier.fit(X_train_std, y_train)\n",
    "\n",
    "    # Make predictions on the standardized test set\n",
    "    y_pred = knn_classifier.predict(X_test_std)\n",
    "\n",
    "    # Calculate accuracy\n",
    "    accuracy = accuracy_score(y_test, y_pred)\n",
    "    \n",
    "    return accuracy\n",
    "\n",
    "# Example usage with load_iris dataset\n",
    "from sklearn.datasets import load_iris\n",
    "\n",
    "iris = load_iris()\n",
    "X = iris.data\n",
    "y = iris.target\n",
    "\n",
    "accuracy = knn_classifier_with_standardization(X, y)\n",
    "print(f'Accuracy with standardized features: {accuracy * 100:.2f}%')\n"
   ]
  },
  {
   "cell_type": "markdown",
   "id": "130bd528-5d5f-4912-94cd-1db39a3c327a",
   "metadata": {},
   "source": [
    "## 7"
   ]
  },
  {
   "cell_type": "code",
   "execution_count": 9,
   "id": "404ddf51-258e-45e0-9c85-d34a948a05aa",
   "metadata": {},
   "outputs": [
    {
     "name": "stdout",
     "output_type": "stream",
     "text": [
      "Euclidean distance between [1, 2, 3] and [4, 5, 6]: 5.20\n"
     ]
    }
   ],
   "source": [
    "import math\n",
    "\n",
    "def euclidean_distance(point1, point2):\n",
    "    \"\"\"\n",
    "    Calculate the Euclidean distance between two points.\n",
    "\n",
    "    Parameters:\n",
    "    - point1: List or array representing the coordinates of the first point\n",
    "    - point2: List or array representing the coordinates of the second point\n",
    "\n",
    "    Returns:\n",
    "    - Euclidean distance between the two points\n",
    "    \"\"\"\n",
    "    if len(point1) != len(point2):\n",
    "        raise ValueError(\"Points must have the same number of dimensions\")\n",
    "\n",
    "    squared_distances = [(x - y) ** 2 for x, y in zip(point1, point2)]\n",
    "    distance = math.sqrt(sum(squared_distances))\n",
    "\n",
    "    return distance\n",
    "\n",
    "# Example usage\n",
    "point_a = [1, 2, 3]\n",
    "point_b = [4, 5, 6]\n",
    "\n",
    "distance = euclidean_distance(point_a, point_b)\n",
    "print(f'Euclidean distance between {point_a} and {point_b}: {distance:.2f}')\n"
   ]
  },
  {
   "cell_type": "markdown",
   "id": "44c3b544-24c7-47ab-b14a-9f5b7aa10e4e",
   "metadata": {},
   "source": [
    "## 8"
   ]
  },
  {
   "cell_type": "code",
   "execution_count": 10,
   "id": "9cb6280b-5e4a-4f35-b0d5-98172d2caa33",
   "metadata": {},
   "outputs": [
    {
     "name": "stdout",
     "output_type": "stream",
     "text": [
      "Manhattan distance between [1, 2, 3] and [4, 5, 6]: 9\n"
     ]
    }
   ],
   "source": [
    "def manhattan_distance(point1, point2):\n",
    "    \"\"\"\n",
    "    Calculate the Manhattan distance between two points.\n",
    "\n",
    "    Parameters:\n",
    "    - point1: List or array representing the coordinates of the first point\n",
    "    - point2: List or array representing the coordinates of the second point\n",
    "\n",
    "    Returns:\n",
    "    - Manhattan distance between the two points\n",
    "    \"\"\"\n",
    "    if len(point1) != len(point2):\n",
    "        raise ValueError(\"Points must have the same number of dimensions\")\n",
    "\n",
    "    distances = [abs(x - y) for x, y in zip(point1, point2)]\n",
    "    distance = sum(distances)\n",
    "\n",
    "    return distance\n",
    "\n",
    "# Example usage\n",
    "point_a = [1, 2, 3]\n",
    "point_b = [4, 5, 6]\n",
    "\n",
    "distance = manhattan_distance(point_a, point_b)\n",
    "print(f'Manhattan distance between {point_a} and {point_b}: {distance}')\n"
   ]
  },
  {
   "cell_type": "code",
   "execution_count": null,
   "id": "867e5c88-4611-423c-8102-0be0ea322d7f",
   "metadata": {},
   "outputs": [],
   "source": []
  }
 ],
 "metadata": {
  "kernelspec": {
   "display_name": "Python 3 (ipykernel)",
   "language": "python",
   "name": "python3"
  },
  "language_info": {
   "codemirror_mode": {
    "name": "ipython",
    "version": 3
   },
   "file_extension": ".py",
   "mimetype": "text/x-python",
   "name": "python",
   "nbconvert_exporter": "python",
   "pygments_lexer": "ipython3",
   "version": "3.10.8"
  }
 },
 "nbformat": 4,
 "nbformat_minor": 5
}
